{
 "cells": [
  {
   "cell_type": "code",
   "execution_count": null,
   "id": "2e239ae9-a877-4ce2-9114-98440d16a1db",
   "metadata": {},
   "outputs": [],
   "source": [
    "# [Cell 1] - Imports\n",
    "from demo_core import execute_task, format_results_table\n",
    "from IPython.display import HTML, display\n",
    "\n",
    "from palimpzest.policy import MinCost\n",
    "\n",
    "# [Cell 2] - Configuration\n",
    "# Configuration\n",
    "datasetid = \"enron-eval-tiny\"  # Replace with your dataset ID\n",
    "task = \"enron\"  # One of: paper, enron, enronGby, count, average, etc.\n",
    "verbose = False\n",
    "\n",
    "# Set policy\n",
    "policy = MinCost()\n",
    "\n",
    "# [Cell 3] - Execute Task\n",
    "# Execute task\n",
    "records, execution_stats, cols = execute_task(\n",
    "    task=task,\n",
    "    datasetid=datasetid,\n",
    "    policy=policy,\n",
    "    verbose=verbose\n",
    ")\n",
    "\n",
    "# [Cell 4] - Display Results\n",
    "# Print execution info\n",
    "print(f\"Policy is: {str(policy)}\")\n",
    "print(\"\\nExecuted plan:\")\n",
    "plan_str = list(execution_stats.plan_strs.values())[0]\n",
    "print(plan_str)\n",
    "\n",
    "# Display results in a nice table\n",
    "display(HTML(f\"<pre>{format_results_table(records, cols=cols)}</pre>\"))"
   ]
  }
 ],
 "metadata": {
  "kernelspec": {
   "display_name": "Python (venv-pz-05)",
   "language": "python",
   "name": "pz-other-env"
  },
  "language_info": {
   "codemirror_mode": {
    "name": "ipython",
    "version": 3
   },
   "file_extension": ".py",
   "mimetype": "text/x-python",
   "name": "python",
   "nbconvert_exporter": "python",
   "pygments_lexer": "ipython3",
   "version": "3.11.4"
  }
 },
 "nbformat": 4,
 "nbformat_minor": 5
}
