{
 "cells": [
  {
   "cell_type": "code",
   "execution_count": 2,
   "metadata": {},
   "outputs": [],
   "source": [
    "import os\n",
    "\n",
    "import palimpzest as pz\n",
    "\n",
    "if not os.environ.get('OPENAI_API_KEY'):\n",
    "    from palimpzest.utils import load_env\n",
    "    load_env()\n",
    "\n",
    "pz.DataDirectory().clearCache(keep_registry=True)"
   ]
  },
  {
   "cell_type": "code",
   "execution_count": 3,
   "metadata": {},
   "outputs": [],
   "source": [
    "class ScientificPaper(pz.PDFFile):\n",
    "   \"\"\"Represents a scientific research paper, which in practice is usually from a PDF file\"\"\"\n",
    "   title = pz.Field(desc=\"The title of the paper. This is a natural language title, not a number or letter.\", required=True)\n",
    "   publicationYear = pz.Field(desc=\"The year the paper was published. This is a number.\", required=False)\n",
    "   author = pz.Field(desc=\"The name of the first author of the paper\", required=True)\n",
    "   journal = pz.Field(desc=\"The name of the journal the paper was published in\", required=True)\n",
    "   subject = pz.Field(desc=\"A summary of the paper contribution in one sentence\", required=False)\n",
    "   doiURL = pz.Field(desc=\"The DOI URL for the paper\", required=True)\n",
    "\n",
    "def print_table(output):\n",
    "\n",
    "    for table in output:\n",
    "        header = table.header\n",
    "        subset_rows = table.rows[:3]\n",
    "\n",
    "        print(\"Table name:\", table.name)\n",
    "        print(\" | \".join(header)[:100], \"...\")\n",
    "        for row in subset_rows:\n",
    "            print(\" | \".join(row.cells)[:100], \"...\")\n",
    "        print()"
   ]
  },
  {
   "cell_type": "code",
   "execution_count": 4,
   "metadata": {},
   "outputs": [
    {
     "name": "stdout",
     "output_type": "stream",
     "text": [
      "Available models:  [GPT_3_5, GPT_4]\n",
      "LOGICAL PLANS: 4\n"
     ]
    },
    {
     "ename": "",
     "evalue": "",
     "output_type": "error",
     "traceback": [
      "\u001b[1;31mThe Kernel crashed while executing code in the current cell or a previous cell. \n",
      "\u001b[1;31mPlease review the code in the cell(s) to identify a possible cause of the failure. \n",
      "\u001b[1;31mClick <a href='https://aka.ms/vscodeJupyterKernelCrash'>here</a> for more info. \n",
      "\u001b[1;31mView Jupyter <a href='command:jupyter.viewOutput'>log</a> for further details."
     ]
    }
   ],
   "source": [
    "policy = pz.MinCost()\n",
    "\n",
    "papers = pz.Dataset(\"biofabric-pdf\", schema=ScientificPaper)\n",
    "paperURLs = papers.convert(pz.URL, desc=\"The DOI url of the paper\") \n",
    "htmlDOI = paperURLs.map(pz.DownloadHTMLFunction())\n",
    "tableURLS = htmlDOI.convert(pz.URL, desc=\"The URLs of the XLS tables from the page\", cardinality=\"oneToMany\")\n",
    "\n",
    "# urlFile = pz.Dataset(\"biofabric-urls\", schema=pz.TextFile)\n",
    "# tableURLS = urlFile.convert(pz.URL, desc=\"The URLs of the tables\")\n",
    "binary_tables = tableURLS.map(pz.DownloadBinaryFunction())\n",
    "tables = binary_tables.convert(pz.File)\n",
    "xls = tables.convert(pz.XLSFile)\n",
    "patient_tables = xls.convert(pz.Table, desc=\"All tables in the file\", cardinality=\"oneToMany\")\n",
    "\n",
    "engine = pz.NoSentinelExecution\n",
    "output = patient_tables\n",
    "tables, plan, stats  =  pz.Execute(patient_tables,\n",
    "                                  policy = policy,\n",
    "                                  nocache=True,\n",
    "                                  allow_code_synth=False,\n",
    "                                  allow_token_reduction=False,\n",
    "                                  execution_engine=engine)\n",
    "\n",
    "print_table(tables)\n",
    "print(plan)\n",
    "print(stats)"
   ]
  },
  {
   "cell_type": "code",
   "execution_count": null,
   "metadata": {},
   "outputs": [],
   "source": [
    "policy = pz.MinCost()\n",
    "\n",
    "patient_tables = xls.convert(pz.Table, desc=\"All tables in the file\", cardinality=\"oneToMany\")\n",
    "patient_tables = patient_tables.filter(\"The table explains the meaning of attributes\")\n",
    "\n",
    "output = patient_tables\n",
    "\n",
    "tables, plan, stats  =  pz.Execute(patient_tables,\n",
    "                                  policy = policy,\n",
    "                                  nocache=True,\n",
    "                                  allow_code_synth=False,\n",
    "                                  allow_token_reduction=False,\n",
    "                                  execution_engine=engine)\n",
    "\n",
    "print_table(tables)\n",
    "print(plan)\n",
    "print(stats)"
   ]
  },
  {
   "cell_type": "code",
   "execution_count": null,
   "metadata": {},
   "outputs": [],
   "source": [
    "pz.DataDirectory().clearCache(keep_registry=True)\n",
    "policy = pz.MaxQuality()\n",
    "\n",
    "patient_tables = xls.convert(pz.Table, desc=\"All tables in the file\", cardinality=\"oneToMany\")\n",
    "patient_tables = patient_tables.filter(\"The table explains the meaning of attributes\")\n",
    "\n",
    "output = patient_tables\n",
    "\n",
    "tables, plan, stats  =  pz.Execute(patient_tables,\n",
    "                                  policy = policy,\n",
    "                                  nocache=True,\n",
    "                                  allow_code_synth=False,\n",
    "                                  allow_token_reduction=False,\n",
    "                                  execution_engine=engine)\n",
    "\n",
    "print_table(tables)\n",
    "print(plan)\n",
    "print(stats)"
   ]
  },
  {
   "cell_type": "code",
   "execution_count": null,
   "metadata": {},
   "outputs": [],
   "source": [
    "policy = pz.MinCost()\n",
    "\n",
    "xls = pz.Dataset('biofabric-xls', schema=pz.XLSFile)\n",
    "patient_tables = xls.convert(pz.Table, desc=\"All tables in the file\", cardinality=\"oneToMany\")\n",
    "patient_tables = patient_tables.filter(\"The table records if the patient is excluded from the study\")\n",
    "\n",
    "output = patient_tables\n",
    "tables, plan, stats  =  pz.Execute(patient_tables,\n",
    "                                  policy = policy,\n",
    "                                  nocache=True,\n",
    "                                  allow_code_synth=False,\n",
    "                                  allow_token_reduction=False,\n",
    "                                  execution_engine=engine)\n",
    "\n",
    "print_table(tables)\n",
    "print(plan)\n",
    "print(stats)"
   ]
  },
  {
   "cell_type": "code",
   "execution_count": null,
   "metadata": {},
   "outputs": [],
   "source": [
    "policy = pz.MinCost()\n",
    "\n",
    "xls = pz.Dataset('biofabric-xls', schema=pz.XLSFile)\n",
    "patient_tables = xls.convert(pz.Table, desc=\"All tables in the file\", cardinality=\"oneToMany\")\n",
    "patient_tables = patient_tables.filter(\"The table contains patient biometric data\")\n",
    "\n",
    "output = patient_tables\n",
    "tables, plan, stats  =  pz.Execute(patient_tables,\n",
    "                                  policy = policy,\n",
    "                                  nocache=True,\n",
    "                                  allow_code_synth=False,\n",
    "                                  allow_token_reduction=False,\n",
    "                                  execution_engine=engine)\n",
    "\n",
    "print_table(tables)\n",
    "print(plan)\n",
    "print(stats)"
   ]
  },
  {
   "cell_type": "code",
   "execution_count": null,
   "metadata": {},
   "outputs": [],
   "source": [
    "policy = pz.MinCost()\n",
    "\n",
    "xls = pz.Dataset('biofabric-xls', schema=pz.XLSFile)\n",
    "patient_tables = xls.convert(pz.Table, desc=\"All tables in the file\", cardinality=\"oneToMany\")\n",
    "patient_tables = patient_tables.filter(\"The table contains proteomic data\")\n",
    "\n",
    "output = patient_tables\n",
    "tables, plan, stats  =  pz.Execute(patient_tables,\n",
    "                                  policy = policy,\n",
    "                                  nocache=True,\n",
    "                                  allow_code_synth=False,\n",
    "                                  allow_token_reduction=False,\n",
    "                                  execution_engine=engine)\n",
    "\n",
    "print_table(tables)\n",
    "print(plan)\n",
    "print(stats)"
   ]
  }
 ],
 "metadata": {
  "kernelspec": {
   "display_name": "palimpzest",
   "language": "python",
   "name": "python3"
  },
  "language_info": {
   "codemirror_mode": {
    "name": "ipython",
    "version": 3
   },
   "file_extension": ".py",
   "mimetype": "text/x-python",
   "name": "python",
   "nbconvert_exporter": "python",
   "pygments_lexer": "ipython3",
   "version": "3.10.14"
  }
 },
 "nbformat": 4,
 "nbformat_minor": 2
}
